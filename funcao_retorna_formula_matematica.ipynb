{
  "nbformat": 4,
  "nbformat_minor": 0,
  "metadata": {
    "colab": {
      "provenance": [],
      "authorship_tag": "ABX9TyNgwpI2twiavObKZQyFEPLL",
      "include_colab_link": true
    },
    "kernelspec": {
      "name": "python3",
      "display_name": "Python 3"
    },
    "language_info": {
      "name": "python"
    }
  },
  "cells": [
    {
      "cell_type": "markdown",
      "metadata": {
        "id": "view-in-github",
        "colab_type": "text"
      },
      "source": [
        "<a href=\"https://colab.research.google.com/github/jeanmichael1993/fun_retorna_formula_math/blob/master/funcao_retorna_formula_matematica.ipynb\" target=\"_parent\"><img src=\"https://colab.research.google.com/assets/colab-badge.svg\" alt=\"Open In Colab\"/></a>"
      ]
    },
    {
      "cell_type": "code",
      "source": [
        "import math\n",
        "import latexify\n",
        "\n",
        "@latexify.function\n",
        "def solve(a, b, c):\n",
        "  return(-b + math.sqrt(b**2 - 4*a*c)) / (2*a)\n",
        "solve"
      ],
      "metadata": {
        "colab": {
          "base_uri": "https://localhost:8080/",
          "height": 56
        },
        "id": "vwM17o7xxEXX",
        "outputId": "310ca2d4-2eb5-4587-8c8c-2af295a7bcb7"
      },
      "execution_count": null,
      "outputs": [
        {
          "output_type": "execute_result",
          "data": {
            "text/plain": [
              "<latexify.ipython_wrappers.LatexifiedFunction at 0x7f4b19aefeb0>"
            ],
            "text/latex": "$$ \\displaystyle \\mathrm{solve}(a, b, c) = \\frac{-b + \\sqrt{ b^{2} - 4 a c }}{2 a} $$"
          },
          "metadata": {},
          "execution_count": 8
        }
      ]
    },
    {
      "cell_type": "code",
      "source": [
        "\"\"\"\n",
        "Validador de data de nascimento podendo ter de 7 anos para cima.\n",
        "\n",
        "\"\"\"\n",
        "from datetime import date\n",
        "\n",
        "def entrada_valores(dia: int, mes: int, ano: int):\n",
        "    valores_testados: bool = teste_valores(dia, mes, ano)\n",
        "    if valores_testados == 1:\n",
        "        print(\"Data válida!\")\n",
        "    elif valores_testados == 0:\n",
        "        print(\"Data Inválida!\")\n",
        "\n",
        "\n",
        "def teste_valores(dia: int, mes: int, ano: int):\n",
        "    if mes == 2:\n",
        "        if int(ano) % 4 == 0:\n",
        "            if dia <= 0 or dia > 29:\n",
        "                return 0\n",
        "        else:\n",
        "            if dia <= 0 or dia > 28:\n",
        "                return 0\n",
        "    else:\n",
        "        if mes == 4 or mes == 6 or mes == 9 or mes == 11:\n",
        "            if dia <= 0 or dia > 30:\n",
        "                return 0\n",
        "        else:\n",
        "            if dia <= 0 or dia > 31:\n",
        "                return 0\n",
        "    if mes < 0 or mes > 13:\n",
        "        return 0\n",
        "    if ano > date.today().year - 6:\n",
        "        return 0\n",
        "    return 1\n",
        "\n",
        "\n",
        "data_nascimento: str = input(\"Digite seu ano de nascimento separado por '/': \").split('/')\n",
        "dia: int = int(data_nascimento[0])\n",
        "mes: int = int(data_nascimento[1])\n",
        "ano: int = int(data_nascimento[2])\n",
        "entrada_valores(dia, mes, ano)"
      ],
      "metadata": {
        "id": "adbSZX1rho-J",
        "outputId": "43f63af0-e459-4a1f-a6a1-0e6ee5d9fa10",
        "colab": {
          "base_uri": "https://localhost:8080/"
        }
      },
      "execution_count": 15,
      "outputs": [
        {
          "output_type": "stream",
          "name": "stdout",
          "text": [
            "Digite seu ano de nascimento separado por '/': 01/01/2018\n",
            "Data Inválida!\n"
          ]
        }
      ]
    }
  ]
}